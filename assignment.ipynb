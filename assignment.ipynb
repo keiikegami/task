{
 "cells": [
  {
   "cell_type": "markdown",
   "metadata": {},
   "source": [
    "# 課題\n",
    "## 課題1：テストデータの作成\n",
    "\n",
    "テストデータを以下のように作成する。\n",
    "\n",
    "- 日付：2013/1/1 ~ 2016/6/30\n",
    "- 店舗ID：$[1,2,\\dots,100]$\n",
    "- 商品ID：$[1,2, \\dots, 1000]$\n",
    "\n",
    "- 売上高：区間$[0, 10000]$の一様分布に従う乱数\n",
    "- 販売数量：$\\left\\{ 0,1,2, \\dots, 10000 \\right\\}$からのランダムにドロー\n",
    "\n",
    "日付は早い順に並べる。店舗IDも数字の早い順から並べる。商品IDはすべての店舗が同じ商品数を売っているわけではないことを考慮して店舗IDごとにランダムで発生させた扱う商品数だけ1000個の商品群からランダムにとってくることにする。また、その扱う商品数と商品IDは年ごとに変化するものとする。"
   ]
  },
  {
   "cell_type": "markdown",
   "metadata": {},
   "source": [
    "### 日付の作成"
   ]
  },
  {
   "cell_type": "code",
   "execution_count": 1,
   "metadata": {
    "collapsed": false
   },
   "outputs": [],
   "source": [
    "import datetime"
   ]
  },
  {
   "cell_type": "code",
   "execution_count": 2,
   "metadata": {
    "collapsed": true
   },
   "outputs": [],
   "source": [
    "start = datetime.datetime( 2013,1,1)\n",
    "end = datetime.datetime(2016, 6,30)\n",
    "td = end - start"
   ]
  },
  {
   "cell_type": "code",
   "execution_count": 3,
   "metadata": {
    "collapsed": false
   },
   "outputs": [],
   "source": [
    "days = [start + datetime.timedelta(days=i) for i in range(td.days+1)]"
   ]
  },
  {
   "cell_type": "markdown",
   "metadata": {},
   "source": [
    "### 店舗IDと商品ID"
   ]
  },
  {
   "cell_type": "code",
   "execution_count": 4,
   "metadata": {
    "collapsed": true
   },
   "outputs": [],
   "source": [
    "import random\n",
    "import numpy as np\n",
    "from itertools import chain\n",
    "from itertools import compress\n",
    "num_shop = 100\n",
    "num_prod = 1000\n",
    "years = [2013, 2014, 2015, 2016]"
   ]
  },
  {
   "cell_type": "code",
   "execution_count": 5,
   "metadata": {
    "collapsed": false
   },
   "outputs": [],
   "source": [
    "prod_variation = np.random.randint(0, num_prod, (num_shop, len(years)))"
   ]
  },
  {
   "cell_type": "code",
   "execution_count": 6,
   "metadata": {
    "collapsed": false
   },
   "outputs": [],
   "source": [
    "products = [sorted(random.sample(range(num_prod), j)) for i in prod_variation for j in i]"
   ]
  },
  {
   "cell_type": "code",
   "execution_count": 7,
   "metadata": {
    "collapsed": false
   },
   "outputs": [],
   "source": [
    "a = [[1,0,0,0], [0,1,0,0], [0,0,1,0],[0,0,0,1]]\n",
    "b = {}\n",
    "c = [\"2013\", \"2014\", \"2015\", \"2016\"]\n",
    "\n",
    "for i in range(len(years)):\n",
    "    # 商品ID\n",
    "    d = [j == 1 for j in a[i]*num_shop]\n",
    "    e = list(compress(products, d))\n",
    "    f = list(chain.from_iterable(e))\n",
    "    # 店舗ID\n",
    "    g = [[k]*prod_variation[k, i] for k in range(num_shop)]\n",
    "    h = list(chain.from_iterable(g))\n",
    "    # 辞書で保存\n",
    "    emp = np.empty((len(h), 2))\n",
    "    emp[:,0] = h\n",
    "    emp[:, 1] = f\n",
    "    b[c[i]] = emp"
   ]
  },
  {
   "cell_type": "markdown",
   "metadata": {},
   "source": [
    "### CSVの作成"
   ]
  },
  {
   "cell_type": "code",
   "execution_count": 23,
   "metadata": {
    "collapsed": true
   },
   "outputs": [],
   "source": [
    "n2013 = 0\n",
    "n2014 = 0\n",
    "n2015 = 0\n",
    "n2016 = 0\n",
    "for i in days:\n",
    "    if i.year == 2013:\n",
    "        n2013 += 1\n",
    "    elif i.year == 2014:\n",
    "        n2014 += 1\n",
    "    elif i.year == 2015:\n",
    "        n2015 += 1\n",
    "    else:\n",
    "        n2016 += 1\n",
    "\n",
    "num_rows = n2013 * b[\"2013\"].shape[0] + n2014 * b[\"2014\"].shape[0] + n2015 * b[\"2015\"].shape[0] + n2016 * b[\"2016\"].shape[0]"
   ]
  },
  {
   "cell_type": "code",
   "execution_count": 35,
   "metadata": {
    "collapsed": false
   },
   "outputs": [],
   "source": [
    "import calendar\n",
    "\n",
    "day = []\n",
    "month = []\n",
    "year = []\n",
    "for i in days:\n",
    "    if i.year == 2013:\n",
    "        day += [i.day]*(b[\"2013\"].shape[0])\n",
    "        month += [i.month]*(b[\"2013\"].shape[0] * calendar.monthrange(2013, i.month)[1])\n",
    "        year += [i.year]*n2013\n",
    "    elif i.year == 2014:\n",
    "        day += [i.day]*(b[\"2014\"].shape[0])\n",
    "        month += [i.month]*(b[\"2014\"].shape[0] * calendar.monthrange(2014, i.month)[1])\n",
    "        year += [i.year]*n2014\n",
    "    elif i.year == 2015:\n",
    "        day += [i.day]*(b[\"2015\"].shape[0])\n",
    "        month += [i.month]*(b[\"2015\"].shape[0] * calendar.monthrange(2015, i.month)[1])\n",
    "        year += [i.year]*n2015\n",
    "    elif i.year == 2016:\n",
    "        day += [i.day]*(b[\"2016\"].shape[0])\n",
    "        month += [i.month]*(b[\"2016\"].shape[0] * calendar.monthrange(2016, i.month)[1])\n",
    "        year += [i.year]*n2016"
   ]
  },
  {
   "cell_type": "code",
   "execution_count": null,
   "metadata": {
    "collapsed": true
   },
   "outputs": [],
   "source": []
  }
 ],
 "metadata": {
  "kernelspec": {
   "display_name": "Python 3",
   "language": "python",
   "name": "python3"
  },
  "language_info": {
   "codemirror_mode": {
    "name": "ipython",
    "version": 3
   },
   "file_extension": ".py",
   "mimetype": "text/x-python",
   "name": "python",
   "nbconvert_exporter": "python",
   "pygments_lexer": "ipython3",
   "version": "3.5.1"
  }
 },
 "nbformat": 4,
 "nbformat_minor": 0
}
